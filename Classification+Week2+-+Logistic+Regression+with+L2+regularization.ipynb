{
 "cells": [
  {
   "cell_type": "markdown",
   "metadata": {},
   "source": [
    "The goal of this assignment is to implement your own logistic regression classifier with L2 regularization. You will do the following:\n",
    "\n",
    "Extract features from Amazon product reviews.\n",
    "Convert an dataframe into a NumPy array.\n",
    "Write a function to compute the derivative of log likelihood function with an L2 penalty with respect to a single coefficient.\n",
    "Implement gradient ascent with an L2 penalty.\n",
    "Empirically explore how the L2 penalty can ameliorate overfitting."
   ]
  },
  {
   "cell_type": "code",
   "execution_count": 89,
   "metadata": {
    "collapsed": true
   },
   "outputs": [],
   "source": [
    "import numpy as np\n",
    "import pandas as pd\n",
    "from sklearn import linear_model \n",
    "\n",
    "products = pd.read_csv('/Users/kevinwang/Documents/Coursera/Machine Learning - Classification/Week2/amazon_baby_subset.csv')  "
   ]
  },
  {
   "cell_type": "markdown",
   "metadata": {},
   "source": [
    "## Load review dataset\n",
    "\n",
    "For this assignment, we will use a subset of the Amazon product review dataset. The subset was chosen to contain similar numbers of positive and negative reviews, as the original dataset consisted primarily of positive reviews.\n",
    "\n",
    "Load the dataset into a data frame named products. One column of this dataset is sentiment, corresponding to the class label with +1 indicating a review with positive sentiment and -1 for negative sentiment.\n",
    "\n",
    "Let us quickly explore more of this dataset. The name column indicates the name of the product. Try listing the name of the first 10 products in the dataset.\n",
    "\n",
    "After that, try counting the number of positive and negative reviews.\n",
    "\n",
    "Note: For this assignment, we eliminated class imbalance by choosing a subset of the data with a similar number of positive and negative reviews."
   ]
  },
  {
   "cell_type": "code",
   "execution_count": 90,
   "metadata": {},
   "outputs": [
    {
     "name": "stdout",
     "output_type": "stream",
     "text": [
      "                                                name  \\\n",
      "0  Stop Pacifier Sucking without tears with Thumb...   \n",
      "1    Nature's Lullabies Second Year Sticker Calendar   \n",
      "2    Nature's Lullabies Second Year Sticker Calendar   \n",
      "3                        Lamaze Peekaboo, I Love You   \n",
      "4  SoftPlay Peek-A-Boo Where's Elmo A Children's ...   \n",
      "5                          Our Baby Girl Memory Book   \n",
      "6  Hunnt&reg; Falling Flowers and Birds Kids Nurs...   \n",
      "7  Blessed By Pope Benedict XVI Divine Mercy Full...   \n",
      "8  Cloth Diaper Pins Stainless Steel Traditional ...   \n",
      "9  Cloth Diaper Pins Stainless Steel Traditional ...   \n",
      "\n",
      "                                              review  rating  sentiment  \n",
      "0  All of my kids have cried non-stop when I trie...       5          1  \n",
      "1  We wanted to get something to keep track of ou...       5          1  \n",
      "2  My daughter had her 1st baby over a year ago. ...       5          1  \n",
      "3  One of baby's first and favorite books, and it...       4          1  \n",
      "4  Very cute interactive book! My son loves this ...       5          1  \n",
      "5  Beautiful book, I love it to record cherished ...       5          1  \n",
      "6  Try this out for a spring project !Easy ,fun a...       5          1  \n",
      "7  very nice Divine Mercy Pendant of Jesus now on...       5          1  \n",
      "8  We bought the pins as my 6 year old Autistic s...       4          1  \n",
      "9  It has been many years since we needed diaper ...       5          1  \n",
      "26579\n",
      "26493\n"
     ]
    }
   ],
   "source": [
    "print(products[0:10])\n",
    "num_pos = sum(products['sentiment']==1)\n",
    "num_neg = sum(products['sentiment']==-1)\n",
    "print(num_pos)\n",
    "print(num_neg)"
   ]
  },
  {
   "cell_type": "markdown",
   "metadata": {},
   "source": [
    "## Apply text cleaning on the review data\n",
    "\n",
    "In this section, we will perform some simple feature cleaning using data frames. The last assignment used all words in building bag-of-words features, but here we limit ourselves to 193 words (for simplicity). We compiled a list of 193 most frequent words into the JSON file named important_words.json. Load the words into a list important_words.\n",
    "\n",
    "Let us perform 2 simple data transformations:\n",
    "\n",
    "Remove punctuation\n",
    "Compute word counts (only for important_words)\n",
    "We start with the first item as follows:\n",
    "\n",
    "If your tool supports it, fill n/a values in the review column with empty strings. The n/a values indicate empty reviews. For instance, Pandas's the fillna() method lets you replace all N/A's in the review columns as follows:"
   ]
  },
  {
   "cell_type": "code",
   "execution_count": 91,
   "metadata": {
    "collapsed": true
   },
   "outputs": [],
   "source": [
    "important_words = pd.read_json('/Users/kevinwang/Documents/Coursera/Machine Learning - Classification/Week2/important_words.json')\n",
    "#print(important_words)\n",
    "#type(important_words)   #df\n",
    "#print(important_words[0])\n",
    "#type(important_words[0])   #series\n",
    "important_words = list(important_words[0])"
   ]
  },
  {
   "cell_type": "code",
   "execution_count": 92,
   "metadata": {
    "collapsed": true
   },
   "outputs": [],
   "source": [
    "products = products.fillna({'review':''})  # fill empty string to replace N/A's in 'review' column"
   ]
  },
  {
   "cell_type": "markdown",
   "metadata": {},
   "source": [
    "Write a function remove_punctuation that takes a line of text and removes all punctuation from that text. The function should be analogous to the following Python code:"
   ]
  },
  {
   "cell_type": "code",
   "execution_count": 93,
   "metadata": {
    "collapsed": true
   },
   "outputs": [],
   "source": [
    "def remove_punctuation(text):\n",
    "    import string\n",
    "    return text.translate(str.maketrans('','',string.punctuation))    # nature's will change to natures"
   ]
  },
  {
   "cell_type": "markdown",
   "metadata": {},
   "source": [
    "Apply the remove_punctuation function on every element of the review column and assign the result to the new column review_clean. Note. Many data frame packages support apply operation for this type of task. Consult appropriate manuals."
   ]
  },
  {
   "cell_type": "code",
   "execution_count": 94,
   "metadata": {
    "collapsed": true
   },
   "outputs": [],
   "source": [
    "products['review_clean'] = products['review'].apply(remove_punctuation)  #Only series type can use apply funciton"
   ]
  },
  {
   "cell_type": "markdown",
   "metadata": {},
   "source": [
    "Now we proceed with the second item. For each word in important_words, we compute a count for the number of times the word occurs in the review. We will store this count in a separate column (one for each word). The result of this feature processing is a single column for each word in important_words which keeps a count of the number of times the respective word occurs in the review text.\n",
    "\n",
    "Note: There are several ways of doing this. One way is to create an anonymous function that counts the occurrence of a particular word and apply it to every element in the review_clean column. Repeat this step for every word in important_words. Your code should be analogous to the following:"
   ]
  },
  {
   "cell_type": "code",
   "execution_count": 95,
   "metadata": {
    "collapsed": true
   },
   "outputs": [],
   "source": [
    "for word in important_words:\n",
    "    products[word] = products['review_clean'].apply(lambda s : s.split().count(word))"
   ]
  },
  {
   "cell_type": "code",
   "execution_count": 96,
   "metadata": {},
   "outputs": [
    {
     "data": {
      "text/plain": [
       "['baby',\n",
       " 'one',\n",
       " 'great',\n",
       " 'love',\n",
       " 'use',\n",
       " 'would',\n",
       " 'like',\n",
       " 'easy',\n",
       " 'little',\n",
       " 'seat',\n",
       " 'old',\n",
       " 'well',\n",
       " 'get',\n",
       " 'also',\n",
       " 'really',\n",
       " 'son',\n",
       " 'time',\n",
       " 'bought',\n",
       " 'product',\n",
       " 'good',\n",
       " 'daughter',\n",
       " 'much',\n",
       " 'loves',\n",
       " 'stroller',\n",
       " 'put',\n",
       " 'months',\n",
       " 'car',\n",
       " 'still',\n",
       " 'back',\n",
       " 'used',\n",
       " 'recommend',\n",
       " 'first',\n",
       " 'even',\n",
       " 'perfect',\n",
       " 'nice',\n",
       " 'bag',\n",
       " 'two',\n",
       " 'using',\n",
       " 'got',\n",
       " 'fit',\n",
       " 'around',\n",
       " 'diaper',\n",
       " 'enough',\n",
       " 'month',\n",
       " 'price',\n",
       " 'go',\n",
       " 'could',\n",
       " 'soft',\n",
       " 'since',\n",
       " 'buy',\n",
       " 'room',\n",
       " 'works',\n",
       " 'made',\n",
       " 'child',\n",
       " 'keep',\n",
       " 'size',\n",
       " 'small',\n",
       " 'need',\n",
       " 'year',\n",
       " 'big',\n",
       " 'make',\n",
       " 'take',\n",
       " 'easily',\n",
       " 'think',\n",
       " 'crib',\n",
       " 'clean',\n",
       " 'way',\n",
       " 'quality',\n",
       " 'thing',\n",
       " 'better',\n",
       " 'without',\n",
       " 'set',\n",
       " 'new',\n",
       " 'every',\n",
       " 'cute',\n",
       " 'best',\n",
       " 'bottles',\n",
       " 'work',\n",
       " 'purchased',\n",
       " 'right',\n",
       " 'lot',\n",
       " 'side',\n",
       " 'happy',\n",
       " 'comfortable',\n",
       " 'toy',\n",
       " 'able',\n",
       " 'kids',\n",
       " 'bit',\n",
       " 'night',\n",
       " 'long',\n",
       " 'fits',\n",
       " 'see',\n",
       " 'us',\n",
       " 'another',\n",
       " 'play',\n",
       " 'day',\n",
       " 'money',\n",
       " 'monitor',\n",
       " 'tried',\n",
       " 'thought',\n",
       " 'never',\n",
       " 'item',\n",
       " 'hard',\n",
       " 'plastic',\n",
       " 'however',\n",
       " 'disappointed',\n",
       " 'reviews',\n",
       " 'something',\n",
       " 'going',\n",
       " 'pump',\n",
       " 'bottle',\n",
       " 'cup',\n",
       " 'waste',\n",
       " 'return',\n",
       " 'amazon',\n",
       " 'different',\n",
       " 'top',\n",
       " 'want',\n",
       " 'problem',\n",
       " 'know',\n",
       " 'water',\n",
       " 'try',\n",
       " 'received',\n",
       " 'sure',\n",
       " 'times',\n",
       " 'chair',\n",
       " 'find',\n",
       " 'hold',\n",
       " 'gate',\n",
       " 'open',\n",
       " 'bottom',\n",
       " 'away',\n",
       " 'actually',\n",
       " 'cheap',\n",
       " 'worked',\n",
       " 'getting',\n",
       " 'ordered',\n",
       " 'came',\n",
       " 'milk',\n",
       " 'bad',\n",
       " 'part',\n",
       " 'worth',\n",
       " 'found',\n",
       " 'cover',\n",
       " 'many',\n",
       " 'design',\n",
       " 'looking',\n",
       " 'weeks',\n",
       " 'say',\n",
       " 'wanted',\n",
       " 'look',\n",
       " 'place',\n",
       " 'purchase',\n",
       " 'looks',\n",
       " 'second',\n",
       " 'piece',\n",
       " 'box',\n",
       " 'pretty',\n",
       " 'trying',\n",
       " 'difficult',\n",
       " 'together',\n",
       " 'though',\n",
       " 'give',\n",
       " 'started',\n",
       " 'anything',\n",
       " 'last',\n",
       " 'company',\n",
       " 'come',\n",
       " 'returned',\n",
       " 'maybe',\n",
       " 'took',\n",
       " 'broke',\n",
       " 'makes',\n",
       " 'stay',\n",
       " 'instead',\n",
       " 'idea',\n",
       " 'head',\n",
       " 'said',\n",
       " 'less',\n",
       " 'went',\n",
       " 'working',\n",
       " 'high',\n",
       " 'unit',\n",
       " 'seems',\n",
       " 'picture',\n",
       " 'completely',\n",
       " 'wish',\n",
       " 'buying',\n",
       " 'babies',\n",
       " 'won',\n",
       " 'tub',\n",
       " 'almost',\n",
       " 'either']"
      ]
     },
     "execution_count": 96,
     "metadata": {},
     "output_type": "execute_result"
    }
   ],
   "source": [
    "important_words"
   ]
  },
  {
   "cell_type": "markdown",
   "metadata": {},
   "source": [
    "The data frame products should contain one column for each of the 193 important_words. As an example, the column perfect contains a count of the number of times the word perfect occurs in each of the reviews.\n",
    "\n",
    "Now, write some code to compute the number of product reviews that contain the word 'perfect'.\n",
    "\n",
    "Hint:\n",
    "\n",
    "First create a column called 'contains_perfect' which is set to 1 if the count of the word perfect (stored in column perfect is >= 1.\n",
    "Sum the number of 1s in the column contains_perfect."
   ]
  },
  {
   "cell_type": "code",
   "execution_count": 97,
   "metadata": {},
   "outputs": [
    {
     "data": {
      "text/plain": [
       "2955"
      ]
     },
     "execution_count": 97,
     "metadata": {},
     "output_type": "execute_result"
    }
   ],
   "source": [
    "products['countains_perfect'] = products['perfect'].apply(lambda x : 1 if x >= 1 else 0)\n",
    "#print(products['countains_perfect'])\n",
    "sum(products['countains_perfect'])"
   ]
  },
  {
   "cell_type": "markdown",
   "metadata": {},
   "source": [
    "Quiz Question. How many reviews contain the word perfect?\n",
    "\n",
    "Answer: 2955"
   ]
  },
  {
   "cell_type": "markdown",
   "metadata": {},
   "source": [
    "## Train-Validation split\n",
    "\n",
    "We split the data into a train-validation split with 80% of the data in the training set and 20% of the data in the validation set. We use seed=2 so that everyone gets the same result. Call the training and validation sets train_data and validation_data, respectively.\n",
    "\n",
    "Note: In previous assignments, we have called this a train-test split. However, the portion of data that we don't train on will be used to help select model parameters (this is known as model selection). Thus, this portion of data should be called a validation set. Recall that examining performance of various potential models (i.e. models with different parameters) should be on validation set, while evaluation of the final selected model should always be on test data. Typically, we would also save a portion of the data (a real test set) to test our final model on or use cross-validation on the training set to select our final model. But for the learning purposes of this assignment, we won't do that."
   ]
  },
  {
   "cell_type": "code",
   "execution_count": 98,
   "metadata": {},
   "outputs": [
    {
     "name": "stdout",
     "output_type": "stream",
     "text": [
      "(42361, 199)\n",
      "(10711, 199)\n",
      "                                                name  \\\n",
      "0  Stop Pacifier Sucking without tears with Thumb...   \n",
      "1    Nature's Lullabies Second Year Sticker Calendar   \n",
      "3                        Lamaze Peekaboo, I Love You   \n",
      "4  SoftPlay Peek-A-Boo Where's Elmo A Children's ...   \n",
      "5                          Our Baby Girl Memory Book   \n",
      "\n",
      "                                              review  rating  \\\n",
      "0  All of my kids have cried non-stop when I trie...       5   \n",
      "1  We wanted to get something to keep track of ou...       5   \n",
      "3  One of baby's first and favorite books, and it...       4   \n",
      "4  Very cute interactive book! My son loves this ...       5   \n",
      "5  Beautiful book, I love it to record cherished ...       5   \n",
      "\n",
      "                                        review_clean  baby  one  great  love  \\\n",
      "0  All of my kids have cried nonstop when I tried...     0    0      1     0   \n",
      "1  We wanted to get something to keep track of ou...     0    0      0     0   \n",
      "3  One of babys first and favorite books and it i...     0    0      0     0   \n",
      "4  Very cute interactive book My son loves this b...     0    0      1     0   \n",
      "5  Beautiful book I love it to record cherished t...     0    0      1     1   \n",
      "\n",
      "   use  would  ...  picture  completely  wish  buying  babies  won  tub  \\\n",
      "0    0      0  ...        0           0     0       0       0    0    0   \n",
      "1    0      0  ...        0           0     0       0       0    0    0   \n",
      "3    0      0  ...        0           0     0       0       0    0    0   \n",
      "4    0      0  ...        0           0     0       0       1    0    0   \n",
      "5    0      0  ...        0           0     0       0       0    0    0   \n",
      "\n",
      "   almost  either  countains_perfect  \n",
      "0       0       0                  0  \n",
      "1       0       0                  0  \n",
      "3       0       0                  1  \n",
      "4       0       0                  0  \n",
      "5       0       0                  0  \n",
      "\n",
      "[5 rows x 198 columns]\n"
     ]
    }
   ],
   "source": [
    "import json\n",
    "with open('/Users/kevinwang/Documents/Coursera/Machine Learning - Classification/Week2/module-4-assignment-train-idx.json', 'r') as f: # Reads the list of most frequent words\n",
    "    train_idx = json.load(f)\n",
    "with open('/Users/kevinwang/Documents/Coursera/Machine Learning - Classification/Week2/module-4-assignment-validation-idx.json', 'r') as f1: # Reads the list of most frequent words\n",
    "    validation_idx = json.load(f1)\n",
    "\n",
    "train_data = products.loc[train_idx]\n",
    "validation_data = products.loc[validation_idx]\n",
    "print(train_data.shape)        #(37224, 13)\n",
    "print(validation_data.shape)   #(9284, 13)\n",
    "train_loans_prop = sum(train_data['sentiment'] == 1)/len(train_data)   #0.503653556845   Means data is very balanced\n",
    "valid_loans_prop = sum(validation_data['sentiment'] == 1)/len(validation_data)   #0.496553209823   Means data is very balanced\n",
    "\n",
    "y_train = train_data['sentiment']\n",
    "x_train = train_data.drop('sentiment', axis=1)\n",
    "print(x_train.head())\n",
    "\n",
    "y_valid = validation_data['sentiment']\n",
    "x_valid = validation_data.drop('sentiment', axis=1)"
   ]
  },
  {
   "cell_type": "markdown",
   "metadata": {
    "collapsed": true
   },
   "source": [
    "## Convert data frame to multi-dimensional array\n",
    "\n",
    "Convert train_data and validation_data into multi-dimensional arrays.\n",
    "\n",
    "Using the function given in Module 3 assignment, extract two arrays feature_matrix_train and sentiment_train from train_data. The 2D array feature_matrix_train would contain the content of the columns given by the list important_words. The 1D array sentiment_train would contain the content of the column sentiment. Do the same for validation_data, producing the arrays feature_matrix_valid and sentiment_valid. The code should be analogous to this cell:"
   ]
  },
  {
   "cell_type": "code",
   "execution_count": 99,
   "metadata": {
    "collapsed": true
   },
   "outputs": [],
   "source": [
    "def get_numpy_data(dataframe, features, label):\n",
    "    dataframe['constant'] = 1\n",
    "    features = ['constant'] + features\n",
    "    features_frame = dataframe[features]         #x\n",
    "    feature_matrix = features_frame.as_matrix()    #x\n",
    "    label_sarray = dataframe[label]             #y\n",
    "    label_array = label_sarray.as_matrix()      #y\n",
    "    return(feature_matrix, label_array)"
   ]
  },
  {
   "cell_type": "code",
   "execution_count": 100,
   "metadata": {},
   "outputs": [
    {
     "name": "stderr",
     "output_type": "stream",
     "text": [
      "/Users/kevinwang/anaconda3/lib/python3.6/site-packages/ipykernel_launcher.py:5: FutureWarning: Method .as_matrix will be removed in a future version. Use .values instead.\n",
      "  \"\"\"\n",
      "/Users/kevinwang/anaconda3/lib/python3.6/site-packages/ipykernel_launcher.py:7: FutureWarning: Method .as_matrix will be removed in a future version. Use .values instead.\n",
      "  import sys\n"
     ]
    }
   ],
   "source": [
    "feature_matrix_train, sentiment_train = get_numpy_data(train_data, important_words, 'sentiment')\n",
    "feature_matrix_valid, sentiment_valid = get_numpy_data(validation_data, important_words, 'sentiment') "
   ]
  },
  {
   "cell_type": "markdown",
   "metadata": {
    "collapsed": true
   },
   "source": [
    "## Building on logistic regression with no L2 penalty assignment\n",
    "\n",
    "Let us now build on the assignment of the previous module. Recall from lecture that the link function for logistic regression can be defined as:\n",
    "\n",
    "P(y=1|xi,w)=1/(1+exp(−w*h(xi))\n",
    "\n",
    "where the feature vector h(xi) is given by the word counts of important_words in the review xi.\n",
    "\n",
    "We will use the same code as in this past assignment to make probability predictions since this part is not affected by the L2 penalty. (Only the way in which the coefficients are learned is affected by the addition of a regularization term.) Refer to Module 3 assignment in order to obtain the function predict_probability."
   ]
  },
  {
   "cell_type": "code",
   "execution_count": 101,
   "metadata": {
    "collapsed": true
   },
   "outputs": [],
   "source": [
    "def predict_probability(feature_matrix, coefficients):\n",
    "    # Take dot product of feature_matrix and coefficients  \n",
    "    # YOUR CODE HERE\n",
    "    score = np.dot(feature_matrix, coefficients)\n",
    "    \n",
    "    # Compute P(y_i = +1 | x_i, w) using the link function\n",
    "    # YOUR CODE HERE\n",
    "    predictions = 1/(1+np.exp(-score))\n",
    "    \n",
    "    # return predictions\n",
    "    return predictions"
   ]
  },
  {
   "cell_type": "markdown",
   "metadata": {},
   "source": [
    "## Adding L2 penalty\n",
    "\n",
    "Let us now work on extending logistic regression with an L2 penalty. As discussed in the lectures, the L2 regularization is particularly useful in preventing overfitting. In this assignment, we will explore L2 regularization in detail.\n",
    "\n",
    "Recall from lecture and the previous assignment that for logistic regression without an L2 penalty, the derivative of the log-likelihood function is:\n",
    "\n",
    "∂L / ∂wj =∑ hj(xi)* (1[yi=+1]−P(yi=+1|xi,w))\n",
    "\n",
    "This is derivative of log likelihood, not derivative of loss, so the larger the better, that's why we do gradient ascent later.\n",
    "\n",
    "i is i-th data, j is j-th feature\n",
    "\n",
    "Adding L2 penalty to the derivative\n",
    "\n",
    "\n",
    "It takes only a small modification to add a L2 penalty. All terms indicated in red refer to terms that were added due to an L2 penalty.\n",
    "\n",
    "Recall from the lecture that the link function is still the sigmoid:\n",
    "\n",
    "P(y=1|xi,w)=1/(1+exp(−w*h(xi))\n",
    "\n",
    "We add the L2 penalty term to the per-coefficient derivative of log likelihood:\n",
    "\n",
    "∂L / ∂wj = ∑ hj(xi)* (1[yi=+1]−P(yi=+1|xi,w)) − 2λ*wj\n",
    "\n",
    "\n",
    "\n",
    "The per-coefficient derivative for logistic regression with an L2 penalty is as follows:\n",
    "\n",
    "∂L / ∂wj = ∑ hj(xi)* (1[yi=+1]−P(yi=+1|xi,w)) − 2λ*wj\n",
    "\n",
    "and for the intercept term, we have\n",
    "\n",
    "∂L / ∂w0 = ∑ h0(xi)* (1[yi=+1]−P(yi=+1|xi,w)) − 2λ*wj\n",
    "\n",
    "\n",
    "Write a function that computes the derivative of log likelihood with respect to a single coefficient w_j. Unlike its counterpart in the last assignment, the function accepts five parameters:\n",
    "\n",
    "errors: vector whose i-th value contains\n",
    "1[yi=+1]−P(yi=+1|xi,w)\n",
    "\n",
    "feature: vector whose i-th value contains\n",
    "hj(xi)\n",
    "\n",
    "coefficient: the current value of the j-th coefficient.\n",
    "\n",
    "l2_penalty:the L2 penalty constant λ\n",
    "\n",
    "feature_is_constant: a Boolean value indicating whether the j-th feature is constant or not.\n",
    "The function should do the following:\n",
    "\n",
    "Take the five parameters as above.\n",
    "Compute the dot product of errors and feature and save the result to derivative.\n",
    "\n",
    "If feature_is_constant is False, subtract the L2 penalty term from derivative. Otherwise, do nothing.\n",
    "Return derivative.\n",
    "The function should be analogous to the following Python function:"
   ]
  },
  {
   "cell_type": "code",
   "execution_count": 102,
   "metadata": {
    "collapsed": true
   },
   "outputs": [],
   "source": [
    "def feature_derivative_with_L2(errors, feature, coefficient, l2_penalty, feature_is_constant): \n",
    "    \n",
    "    # Compute the dot product of errors and feature\n",
    "    ## YOUR CODE HERE\n",
    "    derivative = np.dot(errors, feature)        #errors => (1,n)  features => (n, m)    derivative => (1,m)  \n",
    "\n",
    "    # add L2 penalty term for any feature that isn't the intercept.\n",
    "    if not feature_is_constant: \n",
    "        derivative = derivative - 2*l2_penalty*coefficient\n",
    "        \n",
    "    return derivative"
   ]
  },
  {
   "cell_type": "markdown",
   "metadata": {},
   "source": [
    "Quiz question: In the code above, was the intercept term regularized?\n",
    "\n",
    "Answer: no"
   ]
  },
  {
   "cell_type": "markdown",
   "metadata": {},
   "source": [
    "## Compute log likelihood\n",
    "\n",
    "To verify the correctness of the gradient descent algorithm, we write a function for computing log likelihood (which we recall from the last assignment was a topic detailed in an advanced optional video, and used here for its numerical stability), which is given by the formula\n",
    "\n",
    "ll(w)=∑((1[yi=+1]−1)wh(wi)−ln(1+exp(−wh(xi)))) - λ*∥w∥^2\n",
    "\n",
    "w => (m,1) features => (n, m)\n",
    "\n",
    "The function should be analogous to the following Python function:"
   ]
  },
  {
   "cell_type": "code",
   "execution_count": 103,
   "metadata": {
    "collapsed": true
   },
   "outputs": [],
   "source": [
    "def compute_log_likelihood_with_L2(feature_matrix, sentiment, coefficients, l2_penalty):\n",
    "    indicator = (sentiment==+1)\n",
    "    scores = np.dot(feature_matrix, coefficients)\n",
    "    \n",
    "    lp = np.sum((indicator-1)*scores - np.log(1. + np.exp(-scores))) - l2_penalty*np.sum(coefficients[1:]**2)\n",
    "    \n",
    "    return lp"
   ]
  },
  {
   "cell_type": "markdown",
   "metadata": {},
   "source": [
    "Quiz: Does the term with L2 regularization increase or decrease ll(w)?\n",
    "\n",
    "Answer: Decrease"
   ]
  },
  {
   "cell_type": "markdown",
   "metadata": {},
   "source": [
    "## logistic regression function\n",
    "\n",
    "The logistic regression function looks almost like the one in the last assignment, with a minor modification to account for the L2 penalty.\n",
    "\n",
    "Write a function logistic_regression_with_L2 to fit a logistic regression model under L2 regularization.\n",
    "\n",
    "The function accepts the following parameters:\n",
    "\n",
    "feature_matrix: 2D array of features\n",
    "sentiment: 1D array of class labels\n",
    "initial_coefficients: 1D array containing initial values of coefficients\n",
    "step_size: a parameter controlling the size of the gradient steps\n",
    "l2_penalty: the L2 penalty constant λ\n",
    "max_iter: number of iterations to run gradient ascent\n",
    "The function returns the last set of coefficients after performing gradient ascent.\n",
    "\n",
    "The function carries out the following steps:\n",
    "\n",
    "Initialize vector coefficients to initial_coefficients.\n",
    "Predict the class probability P(yi=+1|xi,w) using your predict_probability function and save it to variable predictions.\n",
    "Compute indicator value for (yi=+1) by comparing sentiment against +1. Save it to variable indicator.\n",
    "Compute the errors as difference between indicator and predictions. Save the errors to variable errors.\n",
    "For each j-th coefficient, compute the per-coefficient derivative by calling feature_derivative_L2 with the j-th column of feature_matrix. Don't forget to supply the L2 penalty. Then increment the j-th coefficient by (step_size*derivative).\n",
    "Once in a while, insert code to print out the log likelihood.\n",
    "Repeat steps 2-6 for max_iter times.\n",
    "At the end of day, your code should be analogous to the following Python function (with blanks filled in):"
   ]
  },
  {
   "cell_type": "code",
   "execution_count": 104,
   "metadata": {
    "collapsed": true
   },
   "outputs": [],
   "source": [
    "def logistic_regression_with_L2(feature_matrix, sentiment, initial_coefficients, step_size, l2_penalty, max_iter):\n",
    "    coefficients = np.array(initial_coefficients) # make sure it's a numpy array\n",
    "    for itr in range(max_iter):\n",
    "        # Predict P(y_i = +1|x_i,w) using your predict_probability() function\n",
    "        ## YOUR CODE HERE\n",
    "        predictions = predict_probability(feature_matrix, coefficients)\n",
    "        \n",
    "        # Compute indicator value for (y_i = +1)\n",
    "        indicator = (sentiment==+1)\n",
    "        \n",
    "        # Compute the errors as indicator - predictions\n",
    "        errors = indicator - predictions\n",
    "        for j in range(len(coefficients)): # loop over each coefficient\n",
    "            is_intercept = (j == 0)\n",
    "            # Recall that feature_matrix[:,j] is the feature column associated with coefficients[j].\n",
    "            # Compute the derivative for coefficients[j]. Save it in a variable called derivative\n",
    "            ## YOUR CODE HERE\n",
    "            derivative = feature_derivative_with_L2(errors, feature_matrix[:,j], coefficients[j], l2_penalty, is_intercept)\n",
    "            \n",
    "            # add the step size times the derivative to the current coefficient\n",
    "            coefficients[j] = coefficients[j] + step_size * derivative\n",
    "        \n",
    "        # Checking whether log likelihood is increasing\n",
    "        if itr <= 15 or (itr <= 100 and itr % 10 == 0) or (itr <= 1000 and itr % 100 == 0) \\\n",
    "        or (itr <= 10000 and itr % 1000 == 0) or itr % 10000 == 0:\n",
    "            lp = compute_log_likelihood_with_L2(feature_matrix, sentiment, coefficients, l2_penalty)\n",
    "            print('iteration %*d: log likelihood of observed labels = %.8f' % \\\n",
    "                (int(np.ceil(np.log10(max_iter))), itr, lp))\n",
    "    return coefficients"
   ]
  },
  {
   "cell_type": "markdown",
   "metadata": {},
   "source": [
    "## Explore effects of L2 regularization\n",
    "\n",
    "Now that we have written up all the pieces needed for an L2 solver with logistic regression, let's explore the benefits of using L2 regularization while analyzing sentiment for product reviews. As iterations pass, the log likelihood should increase.\n",
    "\n",
    "Let us train models with increasing amounts of regularization, starting with no L2 penalty, which is equivalent to our previous logistic regression implementation. Train 6 models with L2 penalty values 0, 4, 10, 1e2, 1e3, and 1e5. Use the following values for the other parameters:\n",
    "\n",
    "feature_matrix = feature_matrix_train extracted\n",
    "sentiment = sentiment_train extracted\n",
    "initial_coefficients = a 194-dimensional vector filled with zeros\n",
    "step_size = 5e-6\n",
    "max_iter = 501\n",
    "\n",
    "Save the 6 sets of coefficients as coefficients_0_penalty, coefficients_4_penalty, coefficients_10_penalty, coefficients_1e2_penalty, coefficients_1e3_penalty, and coefficients_1e5_penalty respectively."
   ]
  },
  {
   "cell_type": "code",
   "execution_count": 105,
   "metadata": {
    "collapsed": true
   },
   "outputs": [],
   "source": [
    "l2_penalty = [0, 4, 10, 1e2, 1e3, 1e5]\n",
    "max_iter = 501\n",
    "step_size = 5e-6\n",
    "initial_coefficients = np.zeros((194,))"
   ]
  },
  {
   "cell_type": "code",
   "execution_count": 106,
   "metadata": {},
   "outputs": [
    {
     "name": "stdout",
     "output_type": "stream",
     "text": [
      "iteration   0: log likelihood of observed labels = -29179.39138303\n",
      "iteration   1: log likelihood of observed labels = -29003.71259047\n",
      "iteration   2: log likelihood of observed labels = -28834.66187288\n",
      "iteration   3: log likelihood of observed labels = -28671.70781507\n",
      "iteration   4: log likelihood of observed labels = -28514.43078198\n",
      "iteration   5: log likelihood of observed labels = -28362.48344665\n",
      "iteration   6: log likelihood of observed labels = -28215.56713122\n",
      "iteration   7: log likelihood of observed labels = -28073.41743783\n",
      "iteration   8: log likelihood of observed labels = -27935.79536396\n",
      "iteration   9: log likelihood of observed labels = -27802.48168669\n",
      "iteration  10: log likelihood of observed labels = -27673.27331484\n",
      "iteration  11: log likelihood of observed labels = -27547.98083656\n",
      "iteration  12: log likelihood of observed labels = -27426.42679977\n",
      "iteration  13: log likelihood of observed labels = -27308.44444728\n",
      "iteration  14: log likelihood of observed labels = -27193.87673876\n",
      "iteration  15: log likelihood of observed labels = -27082.57555831\n",
      "iteration  20: log likelihood of observed labels = -26570.43059938\n",
      "iteration  30: log likelihood of observed labels = -25725.48742389\n",
      "iteration  40: log likelihood of observed labels = -25055.53326910\n",
      "iteration  50: log likelihood of observed labels = -24509.63590026\n",
      "iteration  60: log likelihood of observed labels = -24054.97906083\n",
      "iteration  70: log likelihood of observed labels = -23669.51640848\n",
      "iteration  80: log likelihood of observed labels = -23337.89167628\n",
      "iteration  90: log likelihood of observed labels = -23049.07066021\n",
      "iteration 100: log likelihood of observed labels = -22794.90974921\n",
      "iteration 200: log likelihood of observed labels = -21283.29527353\n",
      "iteration 300: log likelihood of observed labels = -20570.97485473\n",
      "iteration 400: log likelihood of observed labels = -20152.21466944\n",
      "iteration 500: log likelihood of observed labels = -19876.62333410\n",
      "iteration   0: log likelihood of observed labels = -29179.39508175\n",
      "iteration   1: log likelihood of observed labels = -29003.73417180\n",
      "iteration   2: log likelihood of observed labels = -28834.71441858\n",
      "iteration   3: log likelihood of observed labels = -28671.80345068\n",
      "iteration   4: log likelihood of observed labels = -28514.58077957\n",
      "iteration   5: log likelihood of observed labels = -28362.69830317\n",
      "iteration   6: log likelihood of observed labels = -28215.85663259\n",
      "iteration   7: log likelihood of observed labels = -28073.79071393\n",
      "iteration   8: log likelihood of observed labels = -27936.26093762\n",
      "iteration   9: log likelihood of observed labels = -27803.04751805\n",
      "iteration  10: log likelihood of observed labels = -27673.94684207\n",
      "iteration  11: log likelihood of observed labels = -27548.76901327\n",
      "iteration  12: log likelihood of observed labels = -27427.33612958\n",
      "iteration  13: log likelihood of observed labels = -27309.48101569\n",
      "iteration  14: log likelihood of observed labels = -27195.04624253\n",
      "iteration  15: log likelihood of observed labels = -27083.88333261\n",
      "iteration  20: log likelihood of observed labels = -26572.49874392\n",
      "iteration  30: log likelihood of observed labels = -25729.32604153\n",
      "iteration  40: log likelihood of observed labels = -25061.34245801\n",
      "iteration  50: log likelihood of observed labels = -24517.52091982\n",
      "iteration  60: log likelihood of observed labels = -24064.99093939\n",
      "iteration  70: log likelihood of observed labels = -23681.67373669\n",
      "iteration  80: log likelihood of observed labels = -23352.19298741\n",
      "iteration  90: log likelihood of observed labels = -23065.50180166\n",
      "iteration 100: log likelihood of observed labels = -22813.44844580\n",
      "iteration 200: log likelihood of observed labels = -21321.14164794\n",
      "iteration 300: log likelihood of observed labels = -20624.98634439\n",
      "iteration 400: log likelihood of observed labels = -20219.92048845\n",
      "iteration 500: log likelihood of observed labels = -19956.11341777\n",
      "iteration   0: log likelihood of observed labels = -29179.40062984\n",
      "iteration   1: log likelihood of observed labels = -29003.76654163\n",
      "iteration   2: log likelihood of observed labels = -28834.79322654\n",
      "iteration   3: log likelihood of observed labels = -28671.94687528\n",
      "iteration   4: log likelihood of observed labels = -28514.80571589\n",
      "iteration   5: log likelihood of observed labels = -28363.02048079\n",
      "iteration   6: log likelihood of observed labels = -28216.29071186\n",
      "iteration   7: log likelihood of observed labels = -28074.35036891\n",
      "iteration   8: log likelihood of observed labels = -27936.95892966\n",
      "iteration   9: log likelihood of observed labels = -27803.89576265\n",
      "iteration  10: log likelihood of observed labels = -27674.95647005\n",
      "iteration  11: log likelihood of observed labels = -27549.95042714\n",
      "iteration  12: log likelihood of observed labels = -27428.69905549\n",
      "iteration  13: log likelihood of observed labels = -27311.03455140\n",
      "iteration  14: log likelihood of observed labels = -27196.79890162\n",
      "iteration  15: log likelihood of observed labels = -27085.84308528\n",
      "iteration  20: log likelihood of observed labels = -26575.59697506\n",
      "iteration  30: log likelihood of observed labels = -25735.07304608\n",
      "iteration  40: log likelihood of observed labels = -25070.03447306\n",
      "iteration  50: log likelihood of observed labels = -24529.31188025\n",
      "iteration  60: log likelihood of observed labels = -24079.95349572\n",
      "iteration  70: log likelihood of observed labels = -23699.83199186\n",
      "iteration  80: log likelihood of observed labels = -23373.54108747\n",
      "iteration  90: log likelihood of observed labels = -23090.01500055\n",
      "iteration 100: log likelihood of observed labels = -22841.08995135\n",
      "iteration 200: log likelihood of observed labels = -21377.25595328\n",
      "iteration 300: log likelihood of observed labels = -20704.63995428\n",
      "iteration 400: log likelihood of observed labels = -20319.25685307\n",
      "iteration 500: log likelihood of observed labels = -20072.16321721\n",
      "iteration   0: log likelihood of observed labels = -29179.48385120\n",
      "iteration   1: log likelihood of observed labels = -29004.25177457\n",
      "iteration   2: log likelihood of observed labels = -28835.97382190\n",
      "iteration   3: log likelihood of observed labels = -28674.09410083\n",
      "iteration   4: log likelihood of observed labels = -28518.17112932\n",
      "iteration   5: log likelihood of observed labels = -28367.83774654\n",
      "iteration   6: log likelihood of observed labels = -28222.77708939\n",
      "iteration   7: log likelihood of observed labels = -28082.70799392\n",
      "iteration   8: log likelihood of observed labels = -27947.37595368\n",
      "iteration   9: log likelihood of observed labels = -27816.54738615\n",
      "iteration  10: log likelihood of observed labels = -27690.00588850\n",
      "iteration  11: log likelihood of observed labels = -27567.54970126\n",
      "iteration  12: log likelihood of observed labels = -27448.98991327\n",
      "iteration  13: log likelihood of observed labels = -27334.14912742\n",
      "iteration  14: log likelihood of observed labels = -27222.86041863\n",
      "iteration  15: log likelihood of observed labels = -27114.96648229\n",
      "iteration  20: log likelihood of observed labels = -26621.50201299\n",
      "iteration  30: log likelihood of observed labels = -25819.72803950\n",
      "iteration  40: log likelihood of observed labels = -25197.34035501\n",
      "iteration  50: log likelihood of observed labels = -24701.03698195\n",
      "iteration  60: log likelihood of observed labels = -24296.66378580\n",
      "iteration  70: log likelihood of observed labels = -23961.38842316\n",
      "iteration  80: log likelihood of observed labels = -23679.38088853\n",
      "iteration  90: log likelihood of observed labels = -23439.31824267\n",
      "iteration 100: log likelihood of observed labels = -23232.88192018\n",
      "iteration 200: log likelihood of observed labels = -22133.50726528\n",
      "iteration 300: log likelihood of observed labels = -21730.03957488\n",
      "iteration 400: log likelihood of observed labels = -21545.87572145\n",
      "iteration 500: log likelihood of observed labels = -21451.95551390\n",
      "iteration   0: log likelihood of observed labels = -29180.31606471\n",
      "iteration   1: log likelihood of observed labels = -29009.07176112\n",
      "iteration   2: log likelihood of observed labels = -28847.62378912\n",
      "iteration   3: log likelihood of observed labels = -28695.14439397\n",
      "iteration   4: log likelihood of observed labels = -28550.95060743\n",
      "iteration   5: log likelihood of observed labels = -28414.45771129\n",
      "iteration   6: log likelihood of observed labels = -28285.15124375\n",
      "iteration   7: log likelihood of observed labels = -28162.56976044\n"
     ]
    },
    {
     "name": "stdout",
     "output_type": "stream",
     "text": [
      "iteration   8: log likelihood of observed labels = -28046.29387744\n",
      "iteration   9: log likelihood of observed labels = -27935.93902900\n",
      "iteration  10: log likelihood of observed labels = -27831.15045502\n",
      "iteration  11: log likelihood of observed labels = -27731.59955260\n",
      "iteration  12: log likelihood of observed labels = -27636.98108219\n",
      "iteration  13: log likelihood of observed labels = -27547.01092670\n",
      "iteration  14: log likelihood of observed labels = -27461.42422295\n",
      "iteration  15: log likelihood of observed labels = -27379.97375625\n",
      "iteration  20: log likelihood of observed labels = -27027.18208317\n",
      "iteration  30: log likelihood of observed labels = -26527.22737267\n",
      "iteration  40: log likelihood of observed labels = -26206.59048765\n",
      "iteration  50: log likelihood of observed labels = -25995.96903148\n",
      "iteration  60: log likelihood of observed labels = -25854.95710284\n",
      "iteration  70: log likelihood of observed labels = -25759.08109950\n",
      "iteration  80: log likelihood of observed labels = -25693.05688014\n",
      "iteration  90: log likelihood of observed labels = -25647.09929349\n",
      "iteration 100: log likelihood of observed labels = -25614.81468705\n",
      "iteration 200: log likelihood of observed labels = -25536.20998919\n",
      "iteration 300: log likelihood of observed labels = -25532.57691220\n",
      "iteration 400: log likelihood of observed labels = -25532.35543765\n",
      "iteration 500: log likelihood of observed labels = -25532.33970049\n",
      "iteration   0: log likelihood of observed labels = -29271.85955115\n",
      "iteration   1: log likelihood of observed labels = -29271.71006589\n",
      "iteration   2: log likelihood of observed labels = -29271.65738833\n",
      "iteration   3: log likelihood of observed labels = -29271.61189923\n",
      "iteration   4: log likelihood of observed labels = -29271.57079975\n",
      "iteration   5: log likelihood of observed labels = -29271.53358505\n",
      "iteration   6: log likelihood of observed labels = -29271.49988440\n",
      "iteration   7: log likelihood of observed labels = -29271.46936584\n",
      "iteration   8: log likelihood of observed labels = -29271.44172890\n",
      "iteration   9: log likelihood of observed labels = -29271.41670149\n",
      "iteration  10: log likelihood of observed labels = -29271.39403722\n",
      "iteration  11: log likelihood of observed labels = -29271.37351294\n",
      "iteration  12: log likelihood of observed labels = -29271.35492661\n",
      "iteration  13: log likelihood of observed labels = -29271.33809523\n",
      "iteration  14: log likelihood of observed labels = -29271.32285309\n",
      "iteration  15: log likelihood of observed labels = -29271.30905015\n",
      "iteration  20: log likelihood of observed labels = -29271.25729150\n",
      "iteration  30: log likelihood of observed labels = -29271.20657205\n",
      "iteration  40: log likelihood of observed labels = -29271.18775997\n",
      "iteration  50: log likelihood of observed labels = -29271.18078247\n",
      "iteration  60: log likelihood of observed labels = -29271.17819447\n",
      "iteration  70: log likelihood of observed labels = -29271.17723457\n",
      "iteration  80: log likelihood of observed labels = -29271.17687853\n",
      "iteration  90: log likelihood of observed labels = -29271.17674648\n",
      "iteration 100: log likelihood of observed labels = -29271.17669750\n",
      "iteration 200: log likelihood of observed labels = -29271.17666862\n",
      "iteration 300: log likelihood of observed labels = -29271.17666862\n",
      "iteration 400: log likelihood of observed labels = -29271.17666862\n",
      "iteration 500: log likelihood of observed labels = -29271.17666862\n"
     ]
    }
   ],
   "source": [
    "coefficients_list = [logistic_regression_with_L2(feature_matrix_train, sentiment_train, initial_coefficients, \n",
    "  step_size, l2_penalty, max_iter) for l2_penalty in l2_penalty]\n"
   ]
  },
  {
   "cell_type": "markdown",
   "metadata": {},
   "source": [
    "## Compare coefficients\n",
    "\n",
    "We now compare the coefficients for each of the models that were trained above. Create a table of features and learned coefficients associated with each of the different L2 penalty values."
   ]
  },
  {
   "cell_type": "code",
   "execution_count": 107,
   "metadata": {},
   "outputs": [
    {
     "name": "stdout",
     "output_type": "stream",
     "text": [
      "            word  coefficients_0_penalty  coefficients_4_penalty  \\\n",
      "0    (intercept)               -0.063742               -0.063143   \n",
      "1           baby                0.074073                0.073994   \n",
      "2            one                0.012753                0.012495   \n",
      "3          great                0.801625                0.796897   \n",
      "4           love                1.058554                1.050856   \n",
      "..           ...                     ...                     ...   \n",
      "189       babies                0.052494                0.052130   \n",
      "190          won                0.004960                0.004907   \n",
      "191          tub               -0.166745               -0.165367   \n",
      "192       almost               -0.031916               -0.031621   \n",
      "193       either               -0.228852               -0.226793   \n",
      "\n",
      "     coefficients_10_penalty  coefficients_1e2_penalty  \\\n",
      "0                  -0.062256                 -0.050438   \n",
      "1                   0.073877                  0.072360   \n",
      "2                   0.012115                  0.007247   \n",
      "3                   0.789935                  0.701425   \n",
      "4                   1.039529                  0.896644   \n",
      "..                       ...                       ...   \n",
      "189                 0.051594                  0.044805   \n",
      "190                 0.004830                  0.003848   \n",
      "191                -0.163338                 -0.137693   \n",
      "192                -0.031186                 -0.025604   \n",
      "193                -0.223758                 -0.184986   \n",
      "\n",
      "     coefficients_1e3_penalty  coefficients_1e5_penalty  \n",
      "0                    0.000054                  0.011362  \n",
      "1                    0.059752                  0.001784  \n",
      "2                   -0.008761                 -0.001827  \n",
      "3                    0.376012                  0.008950  \n",
      "4                    0.418354                  0.009042  \n",
      "..                        ...                       ...  \n",
      "189                  0.021026                  0.000365  \n",
      "190                  0.001084                  0.000017  \n",
      "191                 -0.054778                 -0.000936  \n",
      "192                 -0.007361                 -0.000125  \n",
      "193                 -0.061138                 -0.000980  \n",
      "\n",
      "[194 rows x 7 columns]\n"
     ]
    }
   ],
   "source": [
    "coefficients_name = ['coefficients_0_penalty', 'coefficients_4_penalty', 'coefficients_10_penalty', 'coefficients_1e2_penalty', \n",
    "                     'coefficients_1e3_penalty', 'coefficients_1e5_penalty']\n",
    "\n",
    "df1= pd.DataFrame(dict(zip(coefficients_name, coefficients_list)))\n",
    "list2 = ['(intercept)'] + important_words\n",
    "df2 = pd.DataFrame({'word':list2})\n",
    "coeff_table = pd.concat([df2, df1], axis=1)\n",
    "print(coeff_table)"
   ]
  },
  {
   "cell_type": "markdown",
   "metadata": {},
   "source": [
    "Using the coefficients trained with L2 penalty 0, find the 5 most positive words (with largest positive coefficients). Save them to positive_words. Similarly, find the 5 most negative words (with largest negative coefficients) and save them to negative_words.\n",
    "\n",
    "Quiz Question: Which of the following is not listed in either positive_words or negative_words?"
   ]
  },
  {
   "cell_type": "code",
   "execution_count": 126,
   "metadata": {},
   "outputs": [
    {
     "name": "stdout",
     "output_type": "stream",
     "text": [
      "             word  coefficients_0_penalty  coefficients_4_penalty  \\\n",
      "106  disappointed               -0.955437               -0.946980   \n",
      "97          money               -0.768793               -0.762734   \n",
      "114        return               -0.742085               -0.735502   \n",
      "113         waste               -0.617809               -0.612475   \n",
      "169      returned               -0.572707               -0.567518   \n",
      "\n",
      "     coefficients_10_penalty  coefficients_1e2_penalty  \\\n",
      "106                -0.934518                 -0.775625   \n",
      "97                 -0.753818                 -0.641406   \n",
      "114                -0.725807                 -0.602646   \n",
      "113                -0.604620                 -0.505189   \n",
      "169                -0.559870                 -0.462056   \n",
      "\n",
      "     coefficients_1e3_penalty  coefficients_1e5_penalty  \n",
      "106                 -0.266095                 -0.004013  \n",
      "97                  -0.275883                 -0.005487  \n",
      "114                 -0.215199                 -0.003730  \n",
      "113                 -0.190631                 -0.003345  \n",
      "169                 -0.150021                 -0.002225  \n",
      "       word  coefficients_0_penalty  coefficients_4_penalty  \\\n",
      "4      love                1.058554                1.050856   \n",
      "23    loves                1.052484                1.043903   \n",
      "8      easy                0.984559                0.977600   \n",
      "34  perfect                0.835693                0.828555   \n",
      "3     great                0.801625                0.796897   \n",
      "\n",
      "    coefficients_10_penalty  coefficients_1e2_penalty  \\\n",
      "4                  1.039529                  0.896644   \n",
      "23                 1.031265                  0.870794   \n",
      "8                  0.967362                  0.838245   \n",
      "34                 0.818038                  0.684143   \n",
      "3                  0.789935                  0.701425   \n",
      "\n",
      "    coefficients_1e3_penalty  coefficients_1e5_penalty  \n",
      "4                   0.418354                  0.009042  \n",
      "23                  0.345870                  0.006150  \n",
      "8                   0.401904                  0.008808  \n",
      "34                  0.250614                  0.003989  \n",
      "3                   0.376012                  0.008950  \n",
      "['disappointed', 'money', 'return', 'waste', 'returned']\n",
      "['love', 'loves', 'easy', 'perfect', 'great']\n"
     ]
    }
   ],
   "source": [
    "coeff_sort1 = coeff_table.sort_values('coefficients_0_penalty')\n",
    "coeff_sort2 = coeff_table.sort_values('coefficients_0_penalty', ascending = False) \n",
    "print(coeff_sort1.head(5))\n",
    "print(coeff_sort2.head(5))\n",
    "negative_words = list(coeff_sort1.head(5)['word'])\n",
    "print(negative_words)\n",
    "positive_words = list(coeff_sort2.head(5)['word'])\n",
    "print(positive_words)"
   ]
  },
  {
   "cell_type": "markdown",
   "metadata": {
    "collapsed": true
   },
   "source": []
  },
  {
   "cell_type": "markdown",
   "metadata": {},
   "source": [
    "Let us observe the effect of increasing L2 penalty on the 10 words just selected. Make a plot of the coefficients for the 10 words over the different values of L2 penalty.\n",
    "\n",
    "Hints:\n",
    "\n",
    "First, extract rows corresponding to positive_words. Do the same for negative_words.\n",
    "Then plot each of the extracted rows. The x axis should be L2 penalty and the y axis should be the coefficient value.\n",
    "Use log scale for the x axis, as the L2 penalty values are exponentially spaced.\n"
   ]
  },
  {
   "cell_type": "code",
   "execution_count": 114,
   "metadata": {},
   "outputs": [
    {
     "name": "stderr",
     "output_type": "stream",
     "text": [
      "/Users/kevinwang/anaconda3/lib/python3.6/site-packages/ipykernel_launcher.py:19: FutureWarning: Method .as_matrix will be removed in a future version. Use .values instead.\n",
      "/Users/kevinwang/anaconda3/lib/python3.6/site-packages/ipykernel_launcher.py:19: FutureWarning: Method .as_matrix will be removed in a future version. Use .values instead.\n",
      "/Users/kevinwang/anaconda3/lib/python3.6/site-packages/ipykernel_launcher.py:19: FutureWarning: Method .as_matrix will be removed in a future version. Use .values instead.\n",
      "/Users/kevinwang/anaconda3/lib/python3.6/site-packages/ipykernel_launcher.py:19: FutureWarning: Method .as_matrix will be removed in a future version. Use .values instead.\n",
      "/Users/kevinwang/anaconda3/lib/python3.6/site-packages/ipykernel_launcher.py:19: FutureWarning: Method .as_matrix will be removed in a future version. Use .values instead.\n",
      "/Users/kevinwang/anaconda3/lib/python3.6/site-packages/ipykernel_launcher.py:24: FutureWarning: Method .as_matrix will be removed in a future version. Use .values instead.\n",
      "/Users/kevinwang/anaconda3/lib/python3.6/site-packages/ipykernel_launcher.py:24: FutureWarning: Method .as_matrix will be removed in a future version. Use .values instead.\n",
      "/Users/kevinwang/anaconda3/lib/python3.6/site-packages/ipykernel_launcher.py:24: FutureWarning: Method .as_matrix will be removed in a future version. Use .values instead.\n",
      "/Users/kevinwang/anaconda3/lib/python3.6/site-packages/ipykernel_launcher.py:24: FutureWarning: Method .as_matrix will be removed in a future version. Use .values instead.\n",
      "/Users/kevinwang/anaconda3/lib/python3.6/site-packages/ipykernel_launcher.py:24: FutureWarning: Method .as_matrix will be removed in a future version. Use .values instead.\n"
     ]
    },
    {
     "data": {
      "image/png": "[encoded data removed]",
      "text/plain": [
       "<Figure size 720x432 with 1 Axes>"
      ]
     },
     "metadata": {},
     "output_type": "display_data"
    }
   ],
   "source": [
    "import matplotlib.pyplot as plt\n",
    "%matplotlib inline\n",
    "plt.rcParams['figure.figsize'] = 10, 6\n",
    "\n",
    "def make_coefficient_plot(table, positive_words, negative_words, l2_penalty_list):\n",
    "    cmap_positive = plt.get_cmap('Reds')\n",
    "    cmap_negative = plt.get_cmap('Blues')\n",
    "    \n",
    "    xx = l2_penalty_list\n",
    "    plt.plot(xx, [0.]*len(xx), '--', lw=1, color='k')\n",
    "    \n",
    "    table_positive_words = table[table['word'].isin(positive_words)]\n",
    "    table_negative_words = table[table['word'].isin(negative_words)]\n",
    "    del table_positive_words['word']\n",
    "    del table_negative_words['word']\n",
    "    \n",
    "    for i in range(len(positive_words)):\n",
    "        color = cmap_positive(0.8*((i+1)/(len(positive_words)*1.2)+0.15))\n",
    "        plt.plot(xx, table_positive_words[i:i+1].as_matrix().flatten(),\n",
    "                 '-', label=positive_words[i], linewidth=4.0, color=color)\n",
    "        \n",
    "    for i in range(len(negative_words)):\n",
    "        color = cmap_negative(0.8*((i+1)/(len(negative_words)*1.2)+0.15))\n",
    "        plt.plot(xx, table_negative_words[i:i+1].as_matrix().flatten(),\n",
    "                 '-', label=negative_words[i], linewidth=4.0, color=color)\n",
    "        \n",
    "    plt.legend(loc='best', ncol=3, prop={'size':16}, columnspacing=0.5)\n",
    "    plt.axis([1, 1e5, -1, 2])\n",
    "    plt.title('Coefficient path')\n",
    "    plt.xlabel('L2 penalty ($\\lambda$)')\n",
    "    plt.ylabel('Coefficient value')\n",
    "    plt.xscale('log')\n",
    "    plt.rcParams.update({'font.size': 18})\n",
    "    plt.tight_layout()\n",
    "\n",
    "\n",
    "make_coefficient_plot(coeff_table, positive_words, negative_words, l2_penalty_list=[0, 4, 10, 1e2, 1e3, 1e5])"
   ]
  },
  {
   "cell_type": "markdown",
   "metadata": {},
   "source": [
    "Quiz Question: (True/False) All coefficients consistently get smaller in size as L2 penalty is increased.\n",
    "\n",
    "Answer: True\n",
    "\n",
    "Quiz Question: (True/False) Relative order of coefficients is preserved as L2 penalty is increased. (If word 'cat' was more positive than word 'dog', then it remains to be so as L2 penalty is increased.)\n",
    "\n",
    "Answer: False"
   ]
  },
  {
   "cell_type": "markdown",
   "metadata": {},
   "source": [
    "## Measuring accuracy\n",
    "\n",
    "Now, let us compute the accuracy of the classifier model. Recall that the accuracy is given by\n",
    "\n",
    "accuracy=# correctly classified data points# total data points\n",
    "Recall from lecture that that the class prediction is calculated using\n",
    "\n",
    "y^i=+1 if h(xi)* w>0\n",
    "y^i=-1 if h(xi)* w≤0\n",
    "\n",
    "Note: It is important to know that the model prediction code doesn't change even with L2 penalty. The only thing that changes is that the estimated coefficients used in this prediction are different with L2 penalty."
   ]
  },
  {
   "cell_type": "code",
   "execution_count": null,
   "metadata": {
    "collapsed": true
   },
   "outputs": [],
   "source": [
    "df = coeff_table.iloc[:,[1,2,3,4,5,6]]   #Remove Variable Name Column"
   ]
  },
  {
   "cell_type": "code",
   "execution_count": 124,
   "metadata": {},
   "outputs": [],
   "source": [
    "def classifier_accuracy(coefficients, feature_matrix, sentiment):\n",
    "    scores = np.dot(feature_matrix, coefficients)   # feature_matrix => (n, m) coefficients => (m, 1)  scores => (n,1)\n",
    "    class_predict = np.array([1 if u > 0 else -1 for u in scores])    #array\n",
    "    #print(sum(class_predict == 1))\n",
    "    print('Accuracy is : ' + str(sum(class_predict == sentiment)/len(class_predict)))   #0.7864545218479262\n",
    "    accuracy = sum(class_predict == sentiment)/len(class_predict)\n",
    "    return accuracy"
   ]
  },
  {
   "cell_type": "code",
   "execution_count": 125,
   "metadata": {},
   "outputs": [
    {
     "name": "stdout",
     "output_type": "stream",
     "text": [
      "Accuracy is : 0.7851561577866434\n",
      "Accuracy is : 0.7851089445480512\n",
      "Accuracy is : 0.7849909114515711\n",
      "Accuracy is : 0.7839758268218409\n",
      "Accuracy is : 0.7758551497839994\n",
      "Accuracy is : 0.6803663747314747\n"
     ]
    },
    {
     "data": {
      "text/plain": [
       "coefficients_0_penalty      0.785156\n",
       "coefficients_4_penalty      0.785109\n",
       "coefficients_10_penalty     0.784991\n",
       "coefficients_1e2_penalty    0.783976\n",
       "coefficients_1e3_penalty    0.775855\n",
       "coefficients_1e5_penalty    0.680366\n",
       "dtype: float64"
      ]
     },
     "execution_count": 125,
     "metadata": {},
     "output_type": "execute_result"
    }
   ],
   "source": [
    "df.apply(classifier_accuracy, args =(feature_matrix_train, sentiment_train), axis = 0)"
   ]
  },
  {
   "cell_type": "code",
   "execution_count": 123,
   "metadata": {},
   "outputs": [
    {
     "name": "stdout",
     "output_type": "stream",
     "text": [
      "training accuracy is : 0.781439641490057\n",
      "training accuracy is : 0.7815330034543927\n",
      "training accuracy is : 0.7817197273830642\n",
      "training accuracy is : 0.781066193632714\n",
      "training accuracy is : 0.7713565493417982\n",
      "training accuracy is : 0.667818130893474\n"
     ]
    },
    {
     "data": {
      "text/plain": [
       "coefficients_0_penalty      0.781440\n",
       "coefficients_4_penalty      0.781533\n",
       "coefficients_10_penalty     0.781720\n",
       "coefficients_1e2_penalty    0.781066\n",
       "coefficients_1e3_penalty    0.771357\n",
       "coefficients_1e5_penalty    0.667818\n",
       "dtype: float64"
      ]
     },
     "execution_count": 123,
     "metadata": {},
     "output_type": "execute_result"
    }
   ],
   "source": [
    "df.apply(classifier_accuracy, args =(feature_matrix_valid, sentiment_valid), axis = 0)"
   ]
  },
  {
   "cell_type": "markdown",
   "metadata": {},
   "source": [
    "Quiz question: Which model (L2 = 0, 4, 10, 100, 1e3, 1e5) has the highest accuracy on the training data?\n",
    "\n",
    "Answer: 0\n",
    "\n",
    "Quiz question: Which model (L2 = 0, 4, 10, 100, 1e3, 1e5) has the highest accuracy on the validation data?\n",
    "\n",
    "Answer: 10\n",
    "\n",
    "Quiz question: Does the highest accuracy on the training data imply that the model is the best one?\n",
    "\n",
    "Answer: No"
   ]
  }
 ],
 "metadata": {
  "kernelspec": {
   "display_name": "Python 3",
   "language": "python",
   "name": "python3"
  },
  "language_info": {
   "codemirror_mode": {
    "name": "ipython",
    "version": 3
   },
   "file_extension": ".py",
   "mimetype": "text/x-python",
   "name": "python",
   "nbconvert_exporter": "python",
   "pygments_lexer": "ipython3",
   "version": "3.6.3"
  }
 },
 "nbformat": 4,
 "nbformat_minor": 2
}
