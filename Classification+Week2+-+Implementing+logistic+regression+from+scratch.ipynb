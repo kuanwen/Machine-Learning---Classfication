{
 "cells": [
  {
   "cell_type": "markdown",
   "metadata": {},
   "source": [
    "The goal of this assignment is to implement your own logistic regression classifier. You will:\n",
    "\n",
    "Extract features from Amazon product reviews.\n",
    "Convert an SFrame into a NumPy array.\n",
    "Implement the link function for logistic regression.\n",
    "Write a function to compute the derivative of the log likelihood function with respect to a single coefficient.\n",
    "Implement gradient ascent.\n",
    "Given a set of coefficients, predict sentiments.\n",
    "Compute classification accuracy for the logistic regression model."
   ]
  },
  {
   "cell_type": "code",
   "execution_count": 3,
   "metadata": {},
   "outputs": [],
   "source": [
    "import numpy as np\n",
    "import pandas as pd\n",
    "from sklearn import linear_model \n",
    "\n",
    "products = pd.read_csv('/Users/kevinwang/Documents/Coursera/Machine Learning - Classification/Week2/amazon_baby_subset.csv')  "
   ]
  },
  {
   "cell_type": "markdown",
   "metadata": {},
   "source": [
    "## Load review dataset\n",
    "\n",
    "For this assignment, we will use a subset of the Amazon product review dataset. The subset was chosen to contain similar numbers of positive and negative reviews, as the original dataset consisted primarily of positive reviews.\n",
    "\n",
    "Load the dataset into a data frame named products. One column of this dataset is sentiment, corresponding to the class label with +1 indicating a review with positive sentiment and -1 for negative sentiment.\n",
    "\n",
    "Let us quickly explore more of this dataset. The name column indicates the name of the product. Try listing the name of the first 10 products in the dataset.\n",
    "\n",
    "After that, try counting the number of positive and negative reviews.\n",
    "\n",
    "Note: For this assignment, we eliminated class imbalance by choosing a subset of the data with a similar number of positive and negative reviews."
   ]
  },
  {
   "cell_type": "code",
   "execution_count": 12,
   "metadata": {},
   "outputs": [
    {
     "name": "stdout",
     "output_type": "stream",
     "text": [
      "                                                name  \\\n",
      "0  Stop Pacifier Sucking without tears with Thumb...   \n",
      "1    Nature's Lullabies Second Year Sticker Calendar   \n",
      "2    Nature's Lullabies Second Year Sticker Calendar   \n",
      "3                        Lamaze Peekaboo, I Love You   \n",
      "4  SoftPlay Peek-A-Boo Where's Elmo A Children's ...   \n",
      "5                          Our Baby Girl Memory Book   \n",
      "6  Hunnt&reg; Falling Flowers and Birds Kids Nurs...   \n",
      "7  Blessed By Pope Benedict XVI Divine Mercy Full...   \n",
      "8  Cloth Diaper Pins Stainless Steel Traditional ...   \n",
      "9  Cloth Diaper Pins Stainless Steel Traditional ...   \n",
      "\n",
      "                                              review  rating  sentiment  \n",
      "0  All of my kids have cried non-stop when I trie...       5          1  \n",
      "1  We wanted to get something to keep track of ou...       5          1  \n",
      "2  My daughter had her 1st baby over a year ago. ...       5          1  \n",
      "3  One of baby's first and favorite books, and it...       4          1  \n",
      "4  Very cute interactive book! My son loves this ...       5          1  \n",
      "5  Beautiful book, I love it to record cherished ...       5          1  \n",
      "6  Try this out for a spring project !Easy ,fun a...       5          1  \n",
      "7  very nice Divine Mercy Pendant of Jesus now on...       5          1  \n",
      "8  We bought the pins as my 6 year old Autistic s...       4          1  \n",
      "9  It has been many years since we needed diaper ...       5          1  \n",
      "26579\n",
      "26493\n"
     ]
    }
   ],
   "source": [
    "print(products[0:10])\n",
    "num_pos = sum(products['sentiment']==1)\n",
    "num_neg = sum(products['sentiment']==-1)\n",
    "print(num_pos)\n",
    "print(num_neg)"
   ]
  },
  {
   "cell_type": "markdown",
   "metadata": {},
   "source": [
    "## Apply text cleaning on the review data\n",
    "\n",
    "In this section, we will perform some simple feature cleaning using data frames. The last assignment used all words in building bag-of-words features, but here we limit ourselves to 193 words (for simplicity). We compiled a list of 193 most frequent words into the JSON file named important_words.json. Load the words into a list important_words.\n",
    "\n",
    "Let us perform 2 simple data transformations:\n",
    "\n",
    "Remove punctuation\n",
    "Compute word counts (only for important_words)\n",
    "We start with the first item as follows:\n",
    "\n",
    "If your tool supports it, fill n/a values in the review column with empty strings. The n/a values indicate empty reviews. For instance, Pandas's the fillna() method lets you replace all N/A's in the review columns as follows:"
   ]
  },
  {
   "cell_type": "code",
   "execution_count": 22,
   "metadata": {},
   "outputs": [],
   "source": [
    "important_words = pd.read_json('/Users/kevinwang/Documents/Coursera/Machine Learning - Classification/Week2/important_words.json')\n",
    "#print(important_words)\n",
    "#type(important_words)   #df\n",
    "#print(important_words[0])\n",
    "#type(important_words[0])   #series"
   ]
  },
  {
   "cell_type": "code",
   "execution_count": 29,
   "metadata": {
    "collapsed": true
   },
   "outputs": [],
   "source": [
    "products = products.fillna({'review':''})  # fill empty string to replace N/A's in 'review' column"
   ]
  },
  {
   "cell_type": "markdown",
   "metadata": {},
   "source": [
    "Write a function remove_punctuation that takes a line of text and removes all punctuation from that text. The function should be analogous to the following Python code:"
   ]
  },
  {
   "cell_type": "code",
   "execution_count": 30,
   "metadata": {
    "collapsed": true
   },
   "outputs": [],
   "source": [
    "def remove_punctuation(text):\n",
    "    import string\n",
    "    return text.translate(str.maketrans('','',string.punctuation))    # nature's will change to natures"
   ]
  },
  {
   "cell_type": "markdown",
   "metadata": {},
   "source": [
    "Apply the remove_punctuation function on every element of the review column and assign the result to the new column review_clean. Note. Many data frame packages support apply operation for this type of task. Consult appropriate manuals."
   ]
  },
  {
   "cell_type": "code",
   "execution_count": 31,
   "metadata": {},
   "outputs": [],
   "source": [
    "products['review_clean'] = products['review'].apply(remove_punctuation)"
   ]
  },
  {
   "cell_type": "markdown",
   "metadata": {},
   "source": [
    "Now we proceed with the second item. For each word in important_words, we compute a count for the number of times the word occurs in the review. We will store this count in a separate column (one for each word). The result of this feature processing is a single column for each word in important_words which keeps a count of the number of times the respective word occurs in the review text.\n",
    "\n",
    "Note: There are several ways of doing this. One way is to create an anonymous function that counts the occurrence of a particular word and apply it to every element in the review_clean column. Repeat this step for every word in important_words. Your code should be analogous to the following:"
   ]
  },
  {
   "cell_type": "code",
   "execution_count": 32,
   "metadata": {},
   "outputs": [],
   "source": [
    "for word in important_words[0]:\n",
    "    products[word] = products['review_clean'].apply(lambda s : s.split().count(word))"
   ]
  },
  {
   "cell_type": "markdown",
   "metadata": {},
   "source": [
    "The data frame products should contain one column for each of the 193 important_words. As an example, the column perfect contains a count of the number of times the word perfect occurs in each of the reviews.\n",
    "\n",
    "Now, write some code to compute the number of product reviews that contain the word 'perfect'.\n",
    "\n",
    "Hint:\n",
    "\n",
    "First create a column called 'contains_perfect' which is set to 1 if the count of the word perfect (stored in column perfect is >= 1.\n",
    "Sum the number of 1s in the column contains_perfect."
   ]
  },
  {
   "cell_type": "code",
   "execution_count": 38,
   "metadata": {},
   "outputs": [
    {
     "data": {
      "text/plain": [
       "2955"
      ]
     },
     "execution_count": 38,
     "metadata": {},
     "output_type": "execute_result"
    }
   ],
   "source": [
    "products['countains_perfect'] = products['perfect'].apply(lambda x : 1 if x >= 1 else 0)\n",
    "#print(products['countains_perfect'])\n",
    "sum(products['countains_perfect'])"
   ]
  },
  {
   "cell_type": "markdown",
   "metadata": {},
   "source": [
    "Quiz Question. How many reviews contain the word perfect?\n",
    "\n",
    "Answer: 2955"
   ]
  },
  {
   "cell_type": "markdown",
   "metadata": {},
   "source": [
    "## Convert data frame to multi-dimensional array\n",
    "\n",
    "It is now time to convert our data frame to a multi-dimensional array. Look for a package that provides a highly optimized matrix operations. In the case of Python, NumPy is a good choice.\n",
    "\n",
    "Write a function that extracts columns from a data frame and converts them into a multi-dimensional array. We plan to use them throughout the course, so make sure to get this function right.\n",
    "\n",
    "The function should accept three parameters:\n",
    "\n",
    "dataframe: a data frame to be converted\n",
    "features: a list of string, containing the names of the columns that are used as features.\n",
    "label: a string, containing the name of the single column that is used as class labels.\n",
    "The function should return two values:\n",
    "\n",
    "one 2D array for features\n",
    "one 1D array for class labels\n",
    "The function should do the following:\n",
    "\n",
    "Prepend a new column constant to dataframe and fill it with 1's. This column takes account of the intercept term. Make sure that the constant column appears first in the data frame.\n",
    "Prepend a string 'constant' to the list features. Make sure the string 'constant' appears first in the list.\n",
    "Extract columns in dataframe whose names appear in the list features.\n",
    "Convert the extracted columns into a 2D array using a function in the data frame library. If you are using Pandas, you would use as_matrix() function.\n",
    "Extract the single column in dataframe whose name corresponds to the string label.\n",
    "Convert the column into a 1D array.\n",
    "Return the 2D array and the 1D array."
   ]
  },
  {
   "cell_type": "code",
   "execution_count": 57,
   "metadata": {
    "collapsed": true
   },
   "outputs": [],
   "source": [
    "def get_numpy_data(dataframe, features, label):\n",
    "    dataframe['constant'] = 1\n",
    "    features = ['constant'] + features\n",
    "    features_frame = dataframe[features]\n",
    "    feature_matrix = features_frame.as_matrix()\n",
    "    label_sarray = dataframe[label]\n",
    "    label_array = label_sarray.as_matrix()\n",
    "    return(feature_matrix, label_array)"
   ]
  },
  {
   "cell_type": "markdown",
   "metadata": {},
   "source": [
    "Using the function written, extract two arrays feature_matrix and sentiment. The 2D array feature_matrix would contain the content of the columns given by the list important_words. The 1D array sentiment would contain the content of the column sentiment.\n",
    "\n",
    "Quiz Question: How many features are there in the feature_matrix?\n",
    "\n",
    "Answer: 194\n",
    "\n",
    "Quiz Question: Assuming that the intercept is present, how does the number of features in feature_matrix relate to the number of features in the logistic regression model?"
   ]
  },
  {
   "cell_type": "code",
   "execution_count": 58,
   "metadata": {},
   "outputs": [
    {
     "name": "stderr",
     "output_type": "stream",
     "text": [
      "/Users/kevinwang/anaconda3/lib/python3.6/site-packages/ipykernel_launcher.py:5: FutureWarning: Method .as_matrix will be removed in a future version. Use .values instead.\n",
      "  \"\"\"\n",
      "/Users/kevinwang/anaconda3/lib/python3.6/site-packages/ipykernel_launcher.py:7: FutureWarning: Method .as_matrix will be removed in a future version. Use .values instead.\n",
      "  import sys\n"
     ]
    },
    {
     "data": {
      "text/plain": [
       "194"
      ]
     },
     "execution_count": 58,
     "metadata": {},
     "output_type": "execute_result"
    }
   ],
   "source": [
    "feature_matrix, sentiment = get_numpy_data(products, list(important_words[0]), 'sentiment')\n",
    "len(get_numpy_data(products, list(important_words[0]), 'sentiment')[0][0])\n"
   ]
  },
  {
   "cell_type": "markdown",
   "metadata": {},
   "source": [
    "## Estimating conditional probability with link function\n",
    "\n",
    "Recall from lecture that the link function is given by\n",
    "\n",
    "P(y=+1|xi,w)=1/(1+exp(−w*h(xi)))\n",
    "where the feature vector h(xi) represents the word counts of important_words in the review xi. Write a function named predict_probability that implements the link function.\n",
    "\n",
    "Take two parameters: feature_matrix and coefficients.\n",
    "First compute the dot product of feature_matrix and coefficients.\n",
    "Then compute the link function P(y=+1|x,w).\n",
    "Return the predictions given by the link function.\n",
    "Your code should be analogous to the following Python function:"
   ]
  },
  {
   "cell_type": "code",
   "execution_count": 74,
   "metadata": {
    "collapsed": true
   },
   "outputs": [],
   "source": [
    "'''\n",
    "produces probablistic estimate for P(y_i = +1 | x_i, w).\n",
    "estimate ranges between 0 and 1.\n",
    "'''\n",
    "def predict_probability(feature_matrix, coefficients):\n",
    "    # Take dot product of feature_matrix and coefficients  \n",
    "    # YOUR CODE HERE\n",
    "    score = np.dot(feature_matrix, coefficients)\n",
    "    \n",
    "    # Compute P(y_i = +1 | x_i, w) using the link function\n",
    "    # YOUR CODE HERE\n",
    "    predictions = 1/(1+np.exp(-score))\n",
    "    \n",
    "    # return predictions\n",
    "    return predictions"
   ]
  },
  {
   "cell_type": "markdown",
   "metadata": {},
   "source": [
    "## Compute derivative of log likelihood with respect to a single coefficient\n",
    "\n",
    "Recall from lecture:  \n",
    "\n",
    "∂L / ∂wj =∑ hj(xi)* (1[yi=+1]−P(yi=+1|xi,w)) \n",
    "\n",
    "This is derivative of log likelihood, not derivative of loss, so the larger the better, that's why we do gradient ascent later.\n",
    "\n",
    "i is i-th data, j is j-th feature\n",
    "\n",
    "We will now write a function feature_derivative that computes the derivative of log likelihood with respect to a single coefficient w_j. The function accepts two arguments:\n",
    "\n",
    "errors: vector whose i-th value contains\n",
    "1[yi=+1]−P(yi=+1|xi,w)\n",
    "\n",
    "feature: vector whose i-th value contains\n",
    "hj(xi)\n",
    "\n",
    "This corresponds to the j-th column of feature_matrix.\n",
    "\n",
    "The function should do the following:\n",
    "\n",
    "Take two parameters errors and feature.\n",
    "Compute the dot product of errors and feature.\n",
    "Return the dot product. This is the derivative with respect to a single coefficient w_j.\n",
    "Your code should be analogous to the following Python function:"
   ]
  },
  {
   "cell_type": "code",
   "execution_count": 68,
   "metadata": {
    "collapsed": true
   },
   "outputs": [],
   "source": [
    "def feature_derivative(errors, feature):       #derivative of log likelihood  \n",
    "    # Compute the dot product of errors and feature\n",
    "    derivative = np.dot(errors, feature)    #errors => (1,n)  features => (n, m)    derivative => (1,m)\n",
    "        # Return the derivative\n",
    "    return derivative"
   ]
  },
  {
   "cell_type": "markdown",
   "metadata": {},
   "source": [
    "In the main lecture, our focus was on the likelihood. In the advanced optional video, however, we introduced a transformation of this likelihood---called the log-likelihood---that simplifies the derivation of the gradient and is more numerically stable. Due to its numerical stability, we will use the log-likelihood instead of the likelihood to assess the algorithm.\n",
    "\n",
    "The log-likelihood is computed using the following formula (see the advanced optional video if you are curious about the derivation of this equation):\n",
    "\n",
    "ll(w)=∑((1[yi=+1]−1)w*h(wi)−ln(1+exp(−w*h(xi))))          \n",
    "\n",
    "w => (m,1)  features => (n, m)\n",
    "\n",
    "Write a function compute_log_likelihood that implements the equation. The function would be analogous to the following Python function:"
   ]
  },
  {
   "cell_type": "code",
   "execution_count": 69,
   "metadata": {},
   "outputs": [],
   "source": [
    "def compute_log_likelihood(feature_matrix, sentiment, coefficients):\n",
    "    indicator = (sentiment==+1)\n",
    "    scores = np.dot(feature_matrix, coefficients)    #(n,1)\n",
    "    lp = np.sum((indicator-1)*scores - np.log(1. + np.exp(-scores)))    #(1,1)\n",
    "    return lp           "
   ]
  },
  {
   "cell_type": "markdown",
   "metadata": {},
   "source": [
    "## Taking gradient steps\n",
    "\n",
    "Now we are ready to implement our own logistic regression. All we have to do is to write a gradient ascent function that takes gradient steps towards the optimum.\n",
    "\n",
    "Write a function logistic_regression to fit a logistic regression model using gradient ascent.\n",
    "\n",
    "The function accepts the following parameters:\n",
    "\n",
    "feature_matrix: 2D array of features\n",
    "sentiment: 1D array of class labels\n",
    "initial_coefficients: 1D array containing initial values of coefficients\n",
    "step_size: a parameter controlling the size of the gradient steps\n",
    "max_iter: number of iterations to run gradient ascent\n",
    "\n",
    "The function returns the last set of coefficients after performing gradient ascent.\n",
    "\n",
    "The function carries out the following steps:\n",
    "\n",
    "Initialize vector coefficients to initial_coefficients.\n",
    "Predict the class probability P(yi=+1|xi,w) using your predict_probability function and save it to variable predictions.\n",
    "Compute indicator value for (yi=+1) by comparing sentiment against +1. Save it to variable indicator.\n",
    "Compute the errors as difference between indicator and predictions. Save the errors to variable errors.\n",
    "For each j-th coefficient, compute the per-coefficient derivative by calling feature_derivative with the j-th column of feature_matrix. Then increment the j-th coefficient by (step_size*derivative).\n",
    "Once in a while, insert code to print out the log likelihood.\n",
    "Repeat steps 2-6 for max_iter times.\n",
    "At the end of day, your code should be analogous to the following Python function (with blanks filled in):"
   ]
  },
  {
   "cell_type": "code",
   "execution_count": 114,
   "metadata": {},
   "outputs": [],
   "source": [
    "from math import sqrt\n",
    "def logistic_regression(feature_matrix, sentiment, initial_coefficients, step_size, max_iter):\n",
    "    coefficients = np.array(initial_coefficients) # make sure it's a numpy array\n",
    "    for itr in range(max_iter):\n",
    "        # Predict P(y_i = +1|x_1,w) using your predict_probability() function\n",
    "        # YOUR CODE HERE\n",
    "        predictions = predict_probability(feature_matrix, coefficients)\n",
    "\n",
    "        # Compute indicator value for (y_i = +1)\n",
    "        indicator = (sentiment==+1)\n",
    "\n",
    "        # Compute the errors as indicator - predictions\n",
    "        errors = indicator - predictions\n",
    "\n",
    "        for j in range(len(coefficients)): # loop over each coefficient\n",
    "            # Recall that feature_matrix[:,j] is the feature column associated with coefficients[j]\n",
    "            # compute the derivative for coefficients[j]. Save it in a variable called derivative\n",
    "            # YOUR CODE HERE\n",
    "            derivative = feature_derivative(errors, feature_matrix[:,j])    #d(Log_likelihood)/dwi      (1,1)\n",
    "\n",
    "            # add the step size times the derivative to the current coefficient\n",
    "            # YOUR CODE HERE\n",
    "            coefficients[j] = coefficients[j] + step_size * derivative\n",
    "\n",
    "        # Checking whether log likelihood is increasing\n",
    "        if itr <= 15 or (itr <= 100 and itr % 10 == 0) or (itr <= 1000 and itr % 100 == 0) \\\n",
    "        or (itr <= 10000 and itr % 1000 == 0) or itr % 10000 == 0:\n",
    "            lp = compute_log_likelihood(feature_matrix, sentiment, coefficients)\n",
    "            print('iteration %*d: log likelihood of observed labels = %.8f' % \\\n",
    "                (int(np.ceil(np.log10(max_iter))), itr, lp))\n",
    "    return coefficients"
   ]
  },
  {
   "cell_type": "markdown",
   "metadata": {},
   "source": [
    "Now, let us run the logistic regression solver with the parameters below:\n",
    "\n",
    "feature_matrix = feature_matrix extracted \n",
    "sentiment = sentiment extracted\n",
    "initial_coefficients = a 194-dimensional vector filled with zeros\n",
    "step_size = 1e-7\n",
    "max_iter = 301\n",
    "Save the returned coefficients to variable coefficients.\n",
    "\n",
    "Quiz question: As each iteration of gradient ascent passes, does the log likelihood increase or decrease?\n",
    "\n",
    "Answer: Increase"
   ]
  },
  {
   "cell_type": "code",
   "execution_count": 115,
   "metadata": {},
   "outputs": [
    {
     "name": "stdout",
     "output_type": "stream",
     "text": [
      "iteration   0: log likelihood of observed labels = -36780.91768478\n",
      "iteration   1: log likelihood of observed labels = -36775.13434712\n",
      "iteration   2: log likelihood of observed labels = -36769.35713564\n",
      "iteration   3: log likelihood of observed labels = -36763.58603240\n",
      "iteration   4: log likelihood of observed labels = -36757.82101962\n",
      "iteration   5: log likelihood of observed labels = -36752.06207964\n",
      "iteration   6: log likelihood of observed labels = -36746.30919497\n",
      "iteration   7: log likelihood of observed labels = -36740.56234821\n",
      "iteration   8: log likelihood of observed labels = -36734.82152213\n",
      "iteration   9: log likelihood of observed labels = -36729.08669961\n",
      "iteration  10: log likelihood of observed labels = -36723.35786366\n",
      "iteration  11: log likelihood of observed labels = -36717.63499744\n",
      "iteration  12: log likelihood of observed labels = -36711.91808422\n",
      "iteration  13: log likelihood of observed labels = -36706.20710739\n",
      "iteration  14: log likelihood of observed labels = -36700.50205049\n",
      "iteration  15: log likelihood of observed labels = -36694.80289716\n",
      "iteration  20: log likelihood of observed labels = -36666.39512033\n",
      "iteration  30: log likelihood of observed labels = -36610.01327118\n",
      "iteration  40: log likelihood of observed labels = -36554.19728365\n",
      "iteration  50: log likelihood of observed labels = -36498.93316099\n",
      "iteration  60: log likelihood of observed labels = -36444.20783914\n",
      "iteration  70: log likelihood of observed labels = -36390.00909449\n",
      "iteration  80: log likelihood of observed labels = -36336.32546144\n",
      "iteration  90: log likelihood of observed labels = -36283.14615871\n",
      "iteration 100: log likelihood of observed labels = -36230.46102347\n",
      "iteration 200: log likelihood of observed labels = -35728.89418769\n",
      "iteration 300: log likelihood of observed labels = -35268.51212683\n"
     ]
    }
   ],
   "source": [
    "coefficients = logistic_regression(feature_matrix, sentiment, initial_coefficients=np.zeros((194,)), step_size=1e-7, max_iter=301)"
   ]
  },
  {
   "cell_type": "markdown",
   "metadata": {},
   "source": [
    "## Predicting sentiments\n",
    "\n",
    "Recall from lecture that class predictions for a data point x can be computed from the coefficients w using the following formula:\n",
    "\n",
    "y = +1  if x*w>0\n",
    "\n",
    "y = =1  if x*w≤0\n",
    "\n",
    "Now, we write some code to compute class predictions. We do this in two steps:\n",
    "\n",
    "First compute the scores using feature_matrix and coefficients using a dot product.\n",
    "Then apply threshold 0 on the scores to compute the class predictions. Refer to the formula above.\n"
   ]
  },
  {
   "cell_type": "code",
   "execution_count": 84,
   "metadata": {},
   "outputs": [],
   "source": [
    "scores = np.dot(feature_matrix, coefficients)   # feature_matrix => (n, m) coefficients => (m, 1)  scores => (n,1)"
   ]
  },
  {
   "cell_type": "code",
   "execution_count": 93,
   "metadata": {},
   "outputs": [
    {
     "data": {
      "text/plain": [
       "25126"
      ]
     },
     "execution_count": 93,
     "metadata": {},
     "output_type": "execute_result"
    }
   ],
   "source": [
    "class_predict = np.array([1 if u > 0 else -1 for u in scores])    #array\n",
    "sum(class_predict == 1)"
   ]
  },
  {
   "cell_type": "code",
   "execution_count": 94,
   "metadata": {},
   "outputs": [],
   "source": [
    "#class_predict = [1 if u > 0 else -1 for u in scores]     #list\n",
    "#type(class_predict)\n",
    "#sum(class_predict == 1)   #error"
   ]
  },
  {
   "cell_type": "markdown",
   "metadata": {},
   "source": [
    "Quiz question: How many reviews were predicted to have positive sentiment?\n",
    "\n",
    "Answer: 25126"
   ]
  },
  {
   "cell_type": "markdown",
   "metadata": {},
   "source": [
    "## Measuring accuracy\n",
    "\n",
    "We will now measure the classification accuracy of the model. Recall from the lecture that the classification accuracy can be computed as follows:\n",
    "\n",
    "accuracy=# correctly classified data points / # total data points"
   ]
  },
  {
   "cell_type": "code",
   "execution_count": 119,
   "metadata": {},
   "outputs": [
    {
     "data": {
      "text/plain": [
       "0.7518653904130238"
      ]
     },
     "execution_count": 119,
     "metadata": {},
     "output_type": "execute_result"
    }
   ],
   "source": [
    "sum(class_predict == sentiment)/len(class_predict)"
   ]
  },
  {
   "cell_type": "markdown",
   "metadata": {},
   "source": [
    "Quiz question: What is the accuracy of the model on predictions made above? (round to 2 digits of accuracy)\n",
    "\n",
    "Answer:  0.7518653904130238"
   ]
  },
  {
   "cell_type": "markdown",
   "metadata": {},
   "source": [
    "## Which words contribute most to positive & negative sentiments\n",
    "\n",
    "Recall that in the earlier assignment, we were able to compute the \"most positive words\". These are words that correspond most strongly with positive reviews. In order to do this, we will first do the following:\n",
    "\n",
    "Treat each coefficient as a tuple, i.e. (word, coefficient_value). The intercept has no corresponding word, so throw it out.\n",
    "Sort all the (word, coefficient_value) tuples by coefficient_value in descending order. Save the sorted list of tuples to word_coefficient_tuples.\n",
    "Your code should be analogous to the following:\n",
    "\n",
    "Now, word_coefficient_tuples contains a sorted list of (word, coefficient_value) tuples. The first 10 elements in this list correspond to the words that are most positive.\n"
   ]
  },
  {
   "cell_type": "code",
   "execution_count": 120,
   "metadata": {},
   "outputs": [
    {
     "name": "stdout",
     "output_type": "stream",
     "text": [
      "[('great', 0.0665460841704577), ('love', 0.06589076292212327), ('easy', 0.0647945868025784), ('little', 0.04543562630842137), ('loves', 0.04497640139490604), ('well', 0.030135001092107084), ('perfect', 0.029739937104968462), ('old', 0.020077541034775385), ('nice', 0.018408707995268992), ('daughter', 0.017703199905701694)]\n",
      "\n",
      "[('monitor', -0.024482100545891717), ('return', -0.026592778462247283), ('back', -0.027742697230661334), ('get', -0.02871155298019258), ('disappointed', -0.028978976142317068), ('even', -0.030051249236035804), ('work', -0.03306951529475273), ('money', -0.038982037286487116), ('product', -0.041511033392108904), ('would', -0.05386014844520314)]\n"
     ]
    }
   ],
   "source": [
    "#coefficients = list(coefficients[1:]) # exclude intercept\n",
    "word_coefficient_tuples = [(word, coefficient) for word, coefficient in zip(list(important_words[0]), list(coefficients[1:]))]\n",
    "word_coefficient_tuples = sorted(word_coefficient_tuples, key=lambda x:x[1], reverse=True)\n",
    "print(word_coefficient_tuples[:10])\n",
    "print()\n",
    "print(word_coefficient_tuples[-10:])"
   ]
  },
  {
   "cell_type": "markdown",
   "metadata": {},
   "source": [
    "## Ten \"most positive\" words\n",
    "\n",
    "Compute the 10 words that have the most positive coefficient values. These words are associated with positive sentiment.\n",
    "\n",
    "Quiz question: Which word is not present in the top 10 \"most positive\" words?\n",
    "\n",
    "Answer:  [('great', 0.0665460841704577), ('love', 0.06589076292212327), ('easy', 0.0647945868025784), ('little', 0.04543562630842137), ('loves', 0.04497640139490604), ('well', 0.030135001092107084), ('perfect', 0.029739937104968462), ('old', 0.020077541034775385), ('nice', 0.018408707995268992), ('daughter', 0.017703199905701694)]\n",
    "\n",
    "\n",
    "## Ten \"most negative\" words\n",
    "\n",
    "Next, we repeat this exerciese on the 10 most negative words. That is, we compute the 10 words that have the most negative coefficient values. These words are associated with negative sentiment.\n",
    "\n",
    "Quiz question: Which word is not present in the top 10 \"most negative\" words?\n",
    "\n",
    "Answer: [('monitor', -0.024482100545891717), ('return', -0.026592778462247283), ('back', -0.027742697230661334), ('get', -0.02871155298019258), ('disappointed', -0.028978976142317068), ('even', -0.030051249236035804), ('work', -0.03306951529475273), ('money', -0.038982037286487116), ('product', -0.041511033392108904), ('would', -0.05386014844520314)]\n",
    "\n"
   ]
  }
 ],
 "metadata": {
  "kernelspec": {
   "display_name": "Python 3",
   "language": "python",
   "name": "python3"
  },
  "language_info": {
   "codemirror_mode": {
    "name": "ipython",
    "version": 3
   },
   "file_extension": ".py",
   "mimetype": "text/x-python",
   "name": "python",
   "nbconvert_exporter": "python",
   "pygments_lexer": "ipython3",
   "version": "3.6.3"
  }
 },
 "nbformat": 4,
 "nbformat_minor": 2
}
